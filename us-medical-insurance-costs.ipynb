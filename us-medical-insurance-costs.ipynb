{
 "cells": [
  {
   "cell_type": "markdown",
   "metadata": {},
   "source": [
    "# U.S. Medical Insurance Costs\n",
    "## Scoping\n",
    "\n",
    "### Insurance data\n",
    "7 data points: age, sex, bmi, children, smoker, region, charges.\n",
    "<br> Some age data might need stripping, but no missing data otherwise.\n",
    "<br> No idea of the temporality of the data.\n",
    "\n",
    "### Main questions\n",
    "Interesting data to obtain might be: share of male/females, mean age, mean bmi, mean children, share of smokers, mean charges. It would help to build the profile of an average person in our database. Is it close to the average person in the country?\n",
    "<br> How can we link the different variables together? Which one appear to be linked to one another?\n",
    "<br> Are charges consistent across geography? What is the mean persona for each region? Are there stark differences?\n",
    "\n",
    "### Organisation of our notebook\n",
    "#### 1: data formatting (import csv, create lists for the variables, define dictionaries)\n",
    "#### 2: data analysis\n",
    "> ##### 2.1.: General analysis of the population\n",
    "> ##### 2.2.: Analysis by sex\n",
    "> ##### 2.3.: Analysis by age\n",
    "> ##### 2.3.: Analysis by geography\n",
    "> ##### 2.4.: Linear regression\n",
    "\n",
    "### List of all functions defined in this notebook\n",
    "\n",
    "data_dict: creates a dictionary of all the data in our CSV, with IDs as keys.\n",
    "<br> transform_quant_nb (nb = 2,4): for a list of qualitative data, returns a list of quantitative data with indexes to define.\n",
    "<br> key_dict: for a given dictionary, returns a new dictionary with a chosen category of data as key.\n",
    "\n",
    "<br> count_var_dict: for a given dictionary and key, returns the sum and length of the chosen category of data.\n",
    "<br> mean_var (uses count_var_dict): returns the average value for the chosen data.\n",
    "\n",
    "<br> unique_key: for a given list of data, returns the unique values of the data.\n",
    "<br> unique_key_count (uses unique_key): for a given list of data, returns the frequency of each unique value in the list.\n",
    "<br> share_unique_key (uses unique_key_count): for a given list of data, returns the percentage of each unique value in the list.\n",
    "<br> dictionary_repartition_type (type = abs, pc) (uses unique_key and (unique_key_count or share_unique_key)): for a list of data, returns a dictionary of the repartition depending on the parameter, either in absolute value or percentage.\n",
    "\n",
    "<br> classification_nb (nb = 5): for a list of data and nb bounds, divides our data points in categories.\n",
    "<br> dictionary_repartition_class_nb_type (nb = 5, type = abs, pc) (uses classification_nb): returns a dictionary of the repartition depending on the class, either in absolute value or percentage."
   ]
  },
  {
   "cell_type": "markdown",
   "metadata": {},
   "source": [
    "## Data formatting"
   ]
  },
  {
   "cell_type": "code",
   "execution_count": 1,
   "metadata": {},
   "outputs": [],
   "source": [
    "#### 1st step: Import csv\n",
    "import csv"
   ]
  },
  {
   "cell_type": "markdown",
   "metadata": {},
   "source": [
    "We need to have a first look at insurance.csv."
   ]
  },
  {
   "cell_type": "code",
   "execution_count": 2,
   "metadata": {},
   "outputs": [],
   "source": [
    "#### Let's define lists where we'll put the data from the csv file:\n",
    "ages_data = []\n",
    "sexes_data = []\n",
    "bmis_data = []\n",
    "children_data = []\n",
    "smokers_data = []\n",
    "regions_data = []\n",
    "charges_data = []\n"
   ]
  },
  {
   "cell_type": "code",
   "execution_count": 3,
   "metadata": {},
   "outputs": [],
   "source": [
    "#### Let's fill these lists with the data from the file:\n",
    "with open('insurance.csv') as insurance_csv:\n",
    "    insurance_reader = csv.DictReader(insurance_csv)\n",
    "    for row in insurance_reader:\n",
    "        ages_data.append(row['age'])\n",
    "        sexes_data.append(row['sex'])\n",
    "        bmis_data.append(row['bmi'])\n",
    "        children_data.append(row['children'])\n",
    "        smokers_data.append(row['smoker'])\n",
    "        regions_data.append(row['region'])\n",
    "        charges_data.append(row['charges'])"
   ]
  },
  {
   "cell_type": "code",
   "execution_count": 4,
   "metadata": {},
   "outputs": [],
   "source": [
    "#### And let's build a list of IDs to \"identify\" our individuals:\n",
    "numbers_data = []\n",
    "for i in range(len(ages_data)):\n",
    "    numbers_data.append(i)"
   ]
  },
  {
   "cell_type": "code",
   "execution_count": 5,
   "metadata": {
    "scrolled": true
   },
   "outputs": [
    {
     "name": "stdout",
     "output_type": "stream",
     "text": [
      "Debugging OK\n",
      "0 19 female 27.9 0 yes southwest 16884.924\n"
     ]
    }
   ],
   "source": [
    "#### Debugging\n",
    "if len(numbers_data) == len(ages_data):\n",
    "    print(\"Debugging OK\")\n",
    "\n",
    "i = 0\n",
    "print(numbers_data[i], ages_data[i], sexes_data[i], bmis_data[i], children_data[i], smokers_data[i], regions_data[i], charges_data[i])"
   ]
  },
  {
   "cell_type": "markdown",
   "metadata": {},
   "source": [
    "We now have, for each category of data, lists that contain the data."
   ]
  },
  {
   "cell_type": "markdown",
   "metadata": {},
   "source": [
    "#### Let's create a first dictionary that has the ID as a key, and a dictionary of all the pieces of data as a value."
   ]
  },
  {
   "cell_type": "code",
   "execution_count": 6,
   "metadata": {},
   "outputs": [],
   "source": [
    "#### A function that defines the dictionary of all data:\n",
    "def data_dict(ids, ages, sexes, bmis, children, smokers, regions, charges):\n",
    "    indexes = ['ID', 'Age', 'Sex', 'BMI', 'Children', 'Smoker', 'Region', 'Charges']\n",
    "    master_insurance = {}\n",
    "    for i in range(len(ids)):\n",
    "        #print(i)\n",
    "        #print(ids[i], ages[i], sexes[i], bmis[i], smokers[i], regions[i], charges[i])\n",
    "        data_index = [ids[i], ages[i], sexes[i], bmis[i], children[i], smokers[i], regions[i], charges[i]]\n",
    "        zipped_data = zip(indexes, data_index)\n",
    "        data_insurance = {index:data for index, data in zipped_data}\n",
    "        master_insurance.update({ids[i]:data_insurance})\n",
    "    return master_insurance"
   ]
  },
  {
   "cell_type": "code",
   "execution_count": 7,
   "metadata": {},
   "outputs": [],
   "source": [
    "#### The dictionary by ID:\n",
    "insurance_data = data_dict(numbers_data, ages_data, sexes_data, bmis_data, children_data, smokers_data, regions_data, charges_data)"
   ]
  },
  {
   "cell_type": "code",
   "execution_count": 8,
   "metadata": {
    "scrolled": true
   },
   "outputs": [
    {
     "name": "stdout",
     "output_type": "stream",
     "text": [
      "{'ID': 15, 'Age': '19', 'Sex': 'male', 'BMI': '24.6', 'Children': '1', 'Smoker': 'no', 'Region': 'southwest', 'Charges': '1837.237'}\n"
     ]
    }
   ],
   "source": [
    "#### Test\n",
    "print(insurance_data[15])\n",
    "#print(insurance_data)"
   ]
  },
  {
   "cell_type": "markdown",
   "metadata": {},
   "source": [
    "##### However, for ease of analysis purposes, we'd like to have data that is entirely quantitative. "
   ]
  },
  {
   "cell_type": "code",
   "execution_count": 9,
   "metadata": {
    "scrolled": true
   },
   "outputs": [],
   "source": [
    "#### Transformation of the qualitative data in quantitative data function (boolean):\n",
    "\n",
    "def transform_quant_2(name_list, option_0, option_1):\n",
    "    name_list_nb = []\n",
    "    for item in name_list:\n",
    "        if item == option_0:\n",
    "            name_list_nb.append('0')\n",
    "        else:\n",
    "            name_list_nb.append('1')\n",
    "    return name_list_nb\n",
    "\n",
    "#### Region: 0 for southwest, 1 for southeast, 2 for northwest, 3 for northeast\n",
    "#regions_data_nb = []\n",
    "#for item in \n",
    "\n",
    "#### Transformation of the qualitative data in quantitative data function (4 options):\n",
    "def transform_quant_4(name_list, option_0, option_1, option_2, option_3):\n",
    "    name_list_nb = []\n",
    "    for item in name_list:\n",
    "        if item == option_0:\n",
    "            name_list_nb.append('0')\n",
    "        elif item == option_1:\n",
    "            name_list_nb.append('1')\n",
    "        elif item == option_2:\n",
    "            name_list_nb.append('2')\n",
    "        else:\n",
    "            name_list_nb.append('3')\n",
    "    return name_list_nb\n",
    "\n",
    "#### New lists of quantitative data (smokers, sexes; regions):\n",
    "smokers_data_nb = transform_quant_2(smokers_data, 'no', 'yes')            \n",
    "sexes_data_nb = transform_quant_2(sexes_data, 'male', 'female')\n",
    "regions_data_nb = transform_quant_4(regions_data, 'northeast', 'northwest', 'southeast', 'southwest')"
   ]
  },
  {
   "cell_type": "code",
   "execution_count": 10,
   "metadata": {},
   "outputs": [
    {
     "name": "stdout",
     "output_type": "stream",
     "text": [
      "0 19 1 27.9 0 1 3 16884.924\n"
     ]
    }
   ],
   "source": [
    "#### Debugging\n",
    "#print(regions_data_nb)\n",
    "\n",
    "i = 0\n",
    "print(numbers_data[i], ages_data[i], sexes_data_nb[i], bmis_data[i], children_data[i], smokers_data_nb[i], regions_data_nb[i], charges_data[i])"
   ]
  },
  {
   "cell_type": "markdown",
   "metadata": {},
   "source": [
    "We now have lists with fully quantitative data.\n",
    "#### Let's define a new dictionary with this reformatted data."
   ]
  },
  {
   "cell_type": "code",
   "execution_count": 11,
   "metadata": {},
   "outputs": [],
   "source": [
    "### New dictionary with quantitative data only:\n",
    "insurance_data_nb = data_dict(numbers_data, ages_data, sexes_data_nb, bmis_data, children_data, smokers_data_nb, regions_data_nb, charges_data)"
   ]
  },
  {
   "cell_type": "code",
   "execution_count": 12,
   "metadata": {
    "scrolled": true
   },
   "outputs": [
    {
     "name": "stdout",
     "output_type": "stream",
     "text": [
      "{'ID': 0, 'Age': '19', 'Sex': '1', 'BMI': '27.9', 'Children': '0', 'Smoker': '1', 'Region': '3', 'Charges': '16884.924'}\n"
     ]
    }
   ],
   "source": [
    "print(insurance_data_nb[0])"
   ]
  },
  {
   "cell_type": "markdown",
   "metadata": {},
   "source": [
    "##### What if we wish to have a dictionary with something other than 'ID' as a key?\n",
    "#### Let's create a dictionary with a certain category as a key (for instance, the region), and a list of the dictionaries as a value."
   ]
  },
  {
   "cell_type": "code",
   "execution_count": 13,
   "metadata": {},
   "outputs": [],
   "source": [
    "#### A function that defines the dictionary by a given key:\n",
    "def key_dict(dictionary, key_choice):\n",
    "    key_dict = {}\n",
    "    for key in dictionary:\n",
    "        current_key_item = dictionary[key][key_choice]\n",
    "        current_cane = dictionary[key]\n",
    "        if current_key_item in key_dict:\n",
    "            key_dict[current_key_item].append(current_cane)\n",
    "        else:\n",
    "            key_dict[current_key_item] = [current_cane]\n",
    "    return key_dict"
   ]
  },
  {
   "cell_type": "code",
   "execution_count": 14,
   "metadata": {},
   "outputs": [
    {
     "name": "stdout",
     "output_type": "stream",
     "text": [
      "dict_keys(['3', '2', '1', '0'])\n"
     ]
    }
   ],
   "source": [
    "#### The dictionaries by regions (test):\n",
    "regions_dictionary = key_dict(insurance_data, 'Region')\n",
    "regions_dictionary_nb = key_dict(insurance_data_nb, 'Region')\n",
    "\n",
    "#print(regions_dictionary['southwest'])\n",
    "print(regions_dictionary_nb.keys())"
   ]
  },
  {
   "cell_type": "markdown",
   "metadata": {},
   "source": [
    "Now, we can go on to analyse the data."
   ]
  },
  {
   "cell_type": "markdown",
   "metadata": {},
   "source": [
    "## Data analysis"
   ]
  },
  {
   "cell_type": "markdown",
   "metadata": {},
   "source": [
    "### A general profile of our population"
   ]
  },
  {
   "cell_type": "code",
   "execution_count": 15,
   "metadata": {},
   "outputs": [],
   "source": [
    "#### Define a function that will give the running count and the total value of a list variable:\n",
    "def count_var_dict(dictionary, variable_name):\n",
    "    total_var = float(0)\n",
    "    running_count = 0\n",
    "    for key in dictionary:\n",
    "        current_id = dictionary[key]\n",
    "        #print(current_id[variable_name])\n",
    "        running_count += 1\n",
    "        total_var += float(current_id[variable_name])\n",
    "    return total_var, running_count"
   ]
  },
  {
   "cell_type": "code",
   "execution_count": 16,
   "metadata": {},
   "outputs": [],
   "source": [
    "#### Define a function that will compute the mean of a given variable, and formats it:\n",
    "def mean_var(dictionary, variable_name, result_format):\n",
    "    total_var, running_count = count_var_dict(dictionary, variable_name)\n",
    "    mean_variable = result_format.format(total_var / running_count)\n",
    "    return mean_variable"
   ]
  },
  {
   "cell_type": "code",
   "execution_count": 17,
   "metadata": {},
   "outputs": [
    {
     "name": "stdout",
     "output_type": "stream",
     "text": [
      "The average person in our database is 39.2 years old, has a BMI of 30.7, 1.09 children, has a 49.48% chance of being a woman and a 20.48% chance of being a smoker, and pays $13,270.4 in charges.\n"
     ]
    }
   ],
   "source": [
    "#### Use the functions so that we get the profile of an average person in our database:\n",
    "mean_age = mean_var(insurance_data_nb, 'Age', '{:.3}')\n",
    "share_of_women = mean_var(insurance_data_nb, 'Sex', '{:.2%}')\n",
    "mean_bmi = mean_var(insurance_data_nb, 'BMI', '{:.3}')\n",
    "mean_nb_children = mean_var(insurance_data_nb, 'Children', '{:.3}')\n",
    "share_of_smokers = mean_var(insurance_data_nb, 'Smoker', '{:.2%}')\n",
    "mean_charges = mean_var(insurance_data_nb, 'Charges', '{:,.6}')\n",
    "\n",
    "#### Analysis\n",
    "explanation = \"The average person in our database is \" + str(mean_age) + \" years old, has a BMI of \" + str(mean_bmi) + \", \" + str(mean_nb_children) + \" children, has a \" + str(share_of_women) + \" chance of being a woman and a \" + str(share_of_smokers) + \" chance of being a smoker, and pays $\" + str(mean_charges) + \" in charges.\"\n",
    "#print(mean_age, share_of_women, mean_bmi, mean_nb_children, share_of_smokers, mean_charges)\n",
    "print(explanation)"
   ]
  },
  {
   "cell_type": "markdown",
   "metadata": {},
   "source": [
    "###### What do we observe? \n",
    "Well, 30.7 is a very high average BMI. A BMI over 30 indicates obesity–a healthy BMI is between 18.5 and 24.9. \n",
    "According to the CDC, the BMI of an average American adult is 26.5 (which is in the overweight range). The CDC also estimates the share of smokers among US adults as 14%, while our sample average is close to 20.5%.\n",
    "<br> Therefore, our sample is not representative of the American population, but is indicative of people whose health need more attention. They are therefore probably more prone to require health insurance.\n",
    "##### This means that the amount of charges paid on average by our sample is probably over-valued relative to the US population as a whole."
   ]
  },
  {
   "cell_type": "markdown",
   "metadata": {},
   "source": [
    "### General instruments of study"
   ]
  },
  {
   "cell_type": "markdown",
   "metadata": {},
   "source": [
    "#### Let's see how we can split up the data so that we can make sense of it.\n",
    "First, we need to be able to categorize our data with the frequency of its datapoints."
   ]
  },
  {
   "cell_type": "code",
   "execution_count": 18,
   "metadata": {},
   "outputs": [
    {
     "name": "stdout",
     "output_type": "stream",
     "text": [
      "['0', '1', '2', '3', '4', '5']\n"
     ]
    }
   ],
   "source": [
    "##### Define a function that will return the unique datapoints for a given list:\n",
    "def unique_key(list_data):\n",
    "    unique_key_list = []\n",
    "    for item in list_data:\n",
    "        if unique_key_list.count(item) == 0:\n",
    "            unique_key_list.append(item)\n",
    "    return sorted(unique_key_list)\n",
    "\n",
    "#### Test\n",
    "children_unique = unique_key(children_data)\n",
    "print(children_unique)"
   ]
  },
  {
   "cell_type": "code",
   "execution_count": 19,
   "metadata": {},
   "outputs": [
    {
     "name": "stdout",
     "output_type": "stream",
     "text": [
      "[574, 324, 240, 157, 25, 18]\n"
     ]
    }
   ],
   "source": [
    "#### Define a function that will return the population for each entry:\n",
    "def unique_key_count(list_data):\n",
    "    unique_count_list = []\n",
    "    for item in unique_key(list_data):\n",
    "        unique_count_list.append(list_data.count(item))\n",
    "    return unique_count_list\n",
    "\n",
    "#### Test\n",
    "nb_children_unique_count = unique_key_count(children_data)\n",
    "print(nb_children_unique_count)"
   ]
  },
  {
   "cell_type": "code",
   "execution_count": 20,
   "metadata": {},
   "outputs": [
    {
     "name": "stdout",
     "output_type": "stream",
     "text": [
      "['42.90%', '24.22%', '17.94%', '11.73%', '1.87%', '1.35%']\n"
     ]
    }
   ],
   "source": [
    "#### Define a function that will return the share of total for each entry:\n",
    "def share_unique_key(list_data):\n",
    "    key_unique_count_pc = []\n",
    "    eff = len(list_data)\n",
    "    for num in unique_key_count(list_data):\n",
    "        key_unique_count_pc.append('{:.2%}'.format(num / eff))\n",
    "    return key_unique_count_pc\n",
    "\n",
    "#### Test\n",
    "nb_children_unique_count_pc = share_unique_key(children_data)\n",
    "print(nb_children_unique_count_pc)"
   ]
  },
  {
   "cell_type": "code",
   "execution_count": 21,
   "metadata": {
    "scrolled": true
   },
   "outputs": [
    {
     "name": "stdout",
     "output_type": "stream",
     "text": [
      "{'0': 574, '1': 324, '2': 240, '3': 157, '4': 25, '5': 18}\n",
      "{'0': '42.90%', '1': '24.22%', '2': '17.94%', '3': '11.73%', '4': '1.87%', '5': '1.35%'}\n"
     ]
    }
   ],
   "source": [
    "#### Define a function that returns a dictionary of the repartition depending on the parameter, in absolute value:\n",
    "def dictionary_repartition_abs(list_data):\n",
    "    key_repartition_abs = {key:value for key, value in zip(unique_key(list_data), unique_key_count(list_data))}\n",
    "    return key_repartition_abs\n",
    "\n",
    "#### Define a function that returns a dictionary of the repartition depending on the parameter, in percentage:\n",
    "def dictionary_repartition_pc(list_data):\n",
    "    key_repartition_pc = {key:value for key, value in zip(unique_key(list_data), share_unique_key(list_data))}\n",
    "    return key_repartition_pc \n",
    "\n",
    "#### Test\n",
    "repartition_children_abs = dictionary_repartition_abs(children_data)\n",
    "print(repartition_children_abs)\n",
    "repartition_children_pc = dictionary_repartition_pc(children_data)\n",
    "print(repartition_children_pc)"
   ]
  },
  {
   "cell_type": "markdown",
   "metadata": {},
   "source": [
    "However, when the quantitative data is too dispersed, it lacks clarity. An example below:  "
   ]
  },
  {
   "cell_type": "code",
   "execution_count": 22,
   "metadata": {},
   "outputs": [
    {
     "name": "stdout",
     "output_type": "stream",
     "text": [
      "{'18': 69, '19': 68, '20': 29, '21': 28, '22': 28, '23': 28, '24': 28, '25': 28, '26': 28, '27': 28, '28': 28, '29': 27, '30': 27, '31': 27, '32': 26, '33': 26, '34': 26, '35': 25, '36': 25, '37': 25, '38': 25, '39': 25, '40': 27, '41': 27, '42': 27, '43': 27, '44': 27, '45': 29, '46': 29, '47': 29, '48': 29, '49': 28, '50': 29, '51': 29, '52': 29, '53': 28, '54': 28, '55': 26, '56': 26, '57': 26, '58': 25, '59': 25, '60': 23, '61': 23, '62': 23, '63': 23, '64': 22}\n",
      "{'18': '5.16%', '19': '5.08%', '20': '2.17%', '21': '2.09%', '22': '2.09%', '23': '2.09%', '24': '2.09%', '25': '2.09%', '26': '2.09%', '27': '2.09%', '28': '2.09%', '29': '2.02%', '30': '2.02%', '31': '2.02%', '32': '1.94%', '33': '1.94%', '34': '1.94%', '35': '1.87%', '36': '1.87%', '37': '1.87%', '38': '1.87%', '39': '1.87%', '40': '2.02%', '41': '2.02%', '42': '2.02%', '43': '2.02%', '44': '2.02%', '45': '2.17%', '46': '2.17%', '47': '2.17%', '48': '2.17%', '49': '2.09%', '50': '2.17%', '51': '2.17%', '52': '2.17%', '53': '2.09%', '54': '2.09%', '55': '1.94%', '56': '1.94%', '57': '1.94%', '58': '1.87%', '59': '1.87%', '60': '1.72%', '61': '1.72%', '62': '1.72%', '63': '1.72%', '64': '1.64%'}\n"
     ]
    }
   ],
   "source": [
    "age_repartition_abs = dictionary_repartition_abs(ages_data)\n",
    "print(age_repartition_abs)\n",
    "age_repartition_pc = dictionary_repartition_pc(ages_data)\n",
    "print(age_repartition_pc)"
   ]
  },
  {
   "cell_type": "markdown",
   "metadata": {},
   "source": [
    "To clarify the data, we need to segment it further. \n",
    "#### Let's do the same thing as above but categorizing our data in classes beforehand."
   ]
  },
  {
   "cell_type": "code",
   "execution_count": 23,
   "metadata": {},
   "outputs": [],
   "source": [
    "#### Let's create a function that will create classes among a list of data:\n",
    "def classification_5(data_list, sup1, sup2, sup3, sup4, sup5):\n",
    "    data_modified = []\n",
    "    for item in data_list:\n",
    "        if int(item) < sup1:\n",
    "            data_modified.append(sup1)\n",
    "        elif int(item) < sup2:\n",
    "            data_modified.append(sup2)\n",
    "        elif int(item) < sup3:\n",
    "            data_modified.append(sup3)\n",
    "        elif int(item) < sup4:\n",
    "            data_modified.append(sup4)\n",
    "        elif int(item) < sup5:\n",
    "            data_modified.append(sup5)\n",
    "        else:\n",
    "            return \"Some values exceed the maximum born.\"\n",
    "    data_classes = ['Under ' + str(sup1), 'Under ' + str(sup2), 'Under ' + str(sup3), 'Under ' + str(sup4), 'Under ' + str(sup5)]\n",
    "    data_classified = unique_key_count(data_modified)\n",
    "    return data_classes, data_classified, data_modified\n",
    "\n",
    "\n",
    "#### Test\n",
    "new_ages_data = classification_5(ages_data, 25, 35, 45, 55, 65)[2]"
   ]
  },
  {
   "cell_type": "code",
   "execution_count": 24,
   "metadata": {
    "scrolled": true
   },
   "outputs": [
    {
     "name": "stdout",
     "output_type": "stream",
     "text": [
      "{'Under 25': 278, 'Under 35': 271, 'Under 45': 260, 'Under 55': 287, 'Under 65': 242}\n",
      "{'Under 25': '20.78%', 'Under 35': '20.25%', 'Under 45': '19.43%', 'Under 55': '21.45%', 'Under 65': '18.09%'}\n"
     ]
    }
   ],
   "source": [
    "#### Define a function that does the same thing as dictionary_repartition_abs, but with our classified data:\n",
    "def dictionary_repartition_class_5_abs(data_list, sup1, sup2, sup3, sup4, sup5):\n",
    "    data_classes, data_classified, data_modified = classification_5(data_list, sup1, sup2, sup3, sup4, sup5)\n",
    "    key_repartition_abs = {key:value for key, value in zip(data_classes, data_classified)}\n",
    "    return key_repartition_abs\n",
    "\n",
    "#### Define a function that does the same thing as dictionary_repartition_pc, but with our classified data:\n",
    "def dictionary_repartition_class_5_pc(data_list, sup1, sup2, sup3, sup4, sup5):\n",
    "    data_classes, data_classified, data_modified = classification_5(data_list, sup1, sup2, sup3, sup4, sup5)\n",
    "    data_classified_pc = ['{:.2%}'.format(item / sum(data_classified)) for item in data_classified]\n",
    "    key_repartition_pc = {key:value for key, value in zip(data_classes, data_classified_pc)}\n",
    "    return key_repartition_pc\n",
    "\n",
    "#### Test\n",
    "rep_abs = dictionary_repartition_class_5_abs(ages_data, 25, 35, 45, 55, 65)\n",
    "print(rep_abs)\n",
    "rep_pc = dictionary_repartition_class_5_pc(ages_data, 25, 35, 45, 55, 65)\n",
    "print(rep_pc)"
   ]
  },
  {
   "cell_type": "markdown",
   "metadata": {},
   "source": [
    "After having our different categories, either \"natural\" or defined as above, we'll need to define a profile for each of them."
   ]
  },
  {
   "cell_type": "markdown",
   "metadata": {},
   "source": [
    "#### Let's define functions that will compute the mean value of all the data categories for the chosen category."
   ]
  },
  {
   "cell_type": "code",
   "execution_count": 25,
   "metadata": {},
   "outputs": [],
   "source": [
    "#### Def counting loops:\n",
    "def int_count(current_key_cane, var_key):\n",
    "    var = 0\n",
    "    count_int = 0\n",
    "    for number in current_key_cane:\n",
    "        var += int(number[var_key])\n",
    "    return var\n",
    "\n",
    "def float_count(current_key_cane, var_key):\n",
    "    var = 0\n",
    "    count_float = 0\n",
    "    for number in current_key_cane:\n",
    "        var += float(number[var_key])\n",
    "    return var"
   ]
  },
  {
   "cell_type": "code",
   "execution_count": 26,
   "metadata": {},
   "outputs": [],
   "source": [
    "#### Define a function that will compute the values for each region from the dictionary:\n",
    "def mean_key_profile_fun(dictionary_nb_key):\n",
    "    mean_profile = {}\n",
    "    for cane in sorted(dictionary_nb_key):\n",
    "        print(cane)\n",
    "        current_id = dictionary_nb_key[cane]\n",
    "        count = len(current_id)\n",
    "        average_profile_key = {}\n",
    "        #### Add the mean values to the new dictionary:\n",
    "        average_profile_key['Number of people'] = count \n",
    "        average_profile_key['Age'] = '{:.3}'.format(int_count(current_id, 'Age') / count)\n",
    "        average_profile_key['Share of women'] = '{:.2%}'.format(int_count(current_id, 'Sex') / count)\n",
    "        average_profile_key['BMI'] = '{:.3}'.format(float_count(current_id, 'BMI') / count)\n",
    "        average_profile_key['Children'] = '{:.3}'.format(int_count(current_id, 'Children') / count)\n",
    "        average_profile_key['Share of smokers'] = '{:.2%}'.format(int_count(current_id, 'Smoker') / count)\n",
    "        average_profile_key['Region'] = int(int_count(current_id, 'Region') / count)\n",
    "        average_profile_key['Charges'] = '{:,.7}'.format(float_count(current_id, 'Charges') / count)\n",
    "        #explanation = \"For n = \" + str(average_profile_key['Number of people']) + \", the average person in the \" +  str(average_profile_key['Region']) + \" region is \" + str(average_profile_key['Age']) + \" years old, has a BMI of \" + str(average_profile_key['BMI']) + \", \" + str(average_profile_key['Children']) + \" children, has a \" + str(average_profile_key['Share of women']) + \" chance of being a woman and a \" + str(average_profile_key['Share of smokers']) + \" chance of being a smoker, and pays $\" + str(average_profile_key['Charges']) + \" in charges.\"\n",
    "        #print(explanation)\n",
    "        #### Build a dictionary for the regions:\n",
    "        mean_profile[cane] = average_profile_key\n",
    "        print(average_profile_key)\n",
    "    return mean_profile"
   ]
  },
  {
   "cell_type": "markdown",
   "metadata": {},
   "source": [
    "Now, we're ready to actually study the data."
   ]
  },
  {
   "cell_type": "markdown",
   "metadata": {},
   "source": [
    "### A study of the sex variable"
   ]
  },
  {
   "cell_type": "markdown",
   "metadata": {},
   "source": [
    "Is there a link between sex and other variables? Relation between different variables: share of women and smoking status (do women smoke more than men?), share of women and charges (do women pay more than men?), share of women and bmi (do women have a higher bmi than men?)..."
   ]
  },
  {
   "cell_type": "code",
   "execution_count": 27,
   "metadata": {},
   "outputs": [
    {
     "name": "stdout",
     "output_type": "stream",
     "text": [
      "{'female': '49.48%', 'male': '50.52%'}\n"
     ]
    }
   ],
   "source": [
    "repartition_sexes_pc = dictionary_repartition_pc(sexes_data)\n",
    "print(repartition_sexes_pc)"
   ]
  },
  {
   "cell_type": "markdown",
   "metadata": {},
   "source": [
    "Remember: we defined earlier that 'female' = 1, 'male' = 0.\n",
    "<br> Our sample is close to the US population in terms of sex ratio, even though in reality, it is closer to the opposite: 50.8% female, 49.2% male. It's in the margin of error."
   ]
  },
  {
   "cell_type": "code",
   "execution_count": 28,
   "metadata": {},
   "outputs": [
    {
     "name": "stdout",
     "output_type": "stream",
     "text": [
      "0\n",
      "{'Number of people': 676, 'Age': '38.9', 'Share of women': '0.00%', 'BMI': '30.9', 'Children': '1.12', 'Share of smokers': '23.52%', 'Region': 1, 'Charges': '13,956.75'}\n",
      "1\n",
      "{'Number of people': 662, 'Age': '39.5', 'Share of women': '100.00%', 'BMI': '30.4', 'Children': '1.07', 'Share of smokers': '17.37%', 'Region': 1, 'Charges': '12,569.58'}\n",
      "{'0': {'Number of people': 676, 'Age': '38.9', 'Share of women': '0.00%', 'BMI': '30.9', 'Children': '1.12', 'Share of smokers': '23.52%', 'Region': 1, 'Charges': '13,956.75'}, '1': {'Number of people': 662, 'Age': '39.5', 'Share of women': '100.00%', 'BMI': '30.4', 'Children': '1.07', 'Share of smokers': '17.37%', 'Region': 1, 'Charges': '12,569.58'}}\n"
     ]
    }
   ],
   "source": [
    "#### The dictionary by sexes:\n",
    "sexes_dictionary_nb = key_dict(insurance_data_nb, 'Sex')\n",
    "mean_sex_data = mean_key_profile_fun(sexes_dictionary_nb)\n",
    "print(mean_sex_data)"
   ]
  },
  {
   "cell_type": "markdown",
   "metadata": {},
   "source": [
    "Women smoke way less than men on average and have a slightly inferior BMI, so despite being a bit older, they still tend to pay less charges than men. "
   ]
  },
  {
   "cell_type": "markdown",
   "metadata": {},
   "source": [
    "### A study of the age variable"
   ]
  },
  {
   "cell_type": "markdown",
   "metadata": {},
   "source": [
    "#### Let's find the repartition of persons across age:"
   ]
  },
  {
   "cell_type": "code",
   "execution_count": 29,
   "metadata": {},
   "outputs": [
    {
     "name": "stdout",
     "output_type": "stream",
     "text": [
      "{'18': '5.16%', '19': '5.08%', '20': '2.17%', '21': '2.09%', '22': '2.09%', '23': '2.09%', '24': '2.09%', '25': '2.09%', '26': '2.09%', '27': '2.09%', '28': '2.09%', '29': '2.02%', '30': '2.02%', '31': '2.02%', '32': '1.94%', '33': '1.94%', '34': '1.94%', '35': '1.87%', '36': '1.87%', '37': '1.87%', '38': '1.87%', '39': '1.87%', '40': '2.02%', '41': '2.02%', '42': '2.02%', '43': '2.02%', '44': '2.02%', '45': '2.17%', '46': '2.17%', '47': '2.17%', '48': '2.17%', '49': '2.09%', '50': '2.17%', '51': '2.17%', '52': '2.17%', '53': '2.09%', '54': '2.09%', '55': '1.94%', '56': '1.94%', '57': '1.94%', '58': '1.87%', '59': '1.87%', '60': '1.72%', '61': '1.72%', '62': '1.72%', '63': '1.72%', '64': '1.64%'}\n",
      "{'Under 25': '20.78%', 'Under 35': '20.25%', 'Under 45': '19.43%', 'Under 55': '21.45%', 'Under 65': '18.09%'}\n"
     ]
    }
   ],
   "source": [
    "repartition_ages_pc = dictionary_repartition_pc(ages_data)\n",
    "print(repartition_ages_pc)\n",
    "print(rep_pc)"
   ]
  },
  {
   "cell_type": "code",
   "execution_count": 30,
   "metadata": {},
   "outputs": [
    {
     "name": "stdout",
     "output_type": "stream",
     "text": [
      "25\n",
      "{'Number of people': 278, 'Age': '25.0', 'Share of women': '48.20%', 'BMI': '30.0', 'Children': '0.604', 'Share of smokers': '21.58%', 'Region': 1, 'Charges': '9,011.34'}\n",
      "35\n",
      "{'Number of people': 271, 'Age': '35.0', 'Share of women': '48.71%', 'BMI': '30.1', 'Children': '1.28', 'Share of smokers': '20.66%', 'Region': 1, 'Charges': '10,352.39'}\n",
      "45\n",
      "{'Number of people': 260, 'Age': '45.0', 'Share of women': '49.62%', 'BMI': '30.4', 'Children': '1.49', 'Share of smokers': '23.46%', 'Region': 1, 'Charges': '13,134.17'}\n",
      "55\n",
      "{'Number of people': 287, 'Age': '55.0', 'Share of women': '50.17%', 'BMI': '31.1', 'Children': '1.39', 'Share of smokers': '19.16%', 'Region': 1, 'Charges': '15,853.93'}\n",
      "65\n",
      "{'Number of people': 242, 'Age': '65.0', 'Share of women': '50.83%', 'BMI': '31.8', 'Children': '0.682', 'Share of smokers': '17.36%', 'Region': 1, 'Charges': '18,513.28'}\n",
      "{25: {'Number of people': 278, 'Age': '25.0', 'Share of women': '48.20%', 'BMI': '30.0', 'Children': '0.604', 'Share of smokers': '21.58%', 'Region': 1, 'Charges': '9,011.34'}, 35: {'Number of people': 271, 'Age': '35.0', 'Share of women': '48.71%', 'BMI': '30.1', 'Children': '1.28', 'Share of smokers': '20.66%', 'Region': 1, 'Charges': '10,352.39'}, 45: {'Number of people': 260, 'Age': '45.0', 'Share of women': '49.62%', 'BMI': '30.4', 'Children': '1.49', 'Share of smokers': '23.46%', 'Region': 1, 'Charges': '13,134.17'}, 55: {'Number of people': 287, 'Age': '55.0', 'Share of women': '50.17%', 'BMI': '31.1', 'Children': '1.39', 'Share of smokers': '19.16%', 'Region': 1, 'Charges': '15,853.93'}, 65: {'Number of people': 242, 'Age': '65.0', 'Share of women': '50.83%', 'BMI': '31.8', 'Children': '0.682', 'Share of smokers': '17.36%', 'Region': 1, 'Charges': '18,513.28'}}\n"
     ]
    }
   ],
   "source": [
    "### New dictionary with updated age data:\n",
    "insurance_data_nb_age = data_dict(numbers_data, new_ages_data, sexes_data_nb, bmis_data, children_data, smokers_data_nb, regions_data_nb, charges_data)\n",
    "\n",
    "#### The dictionary by age:\n",
    "ages_dictionary_nb = key_dict(insurance_data_nb_age, 'Age')\n",
    "mean_age_data = mean_key_profile_fun(ages_dictionary_nb)\n",
    "print(mean_age_data)"
   ]
  },
  {
   "cell_type": "markdown",
   "metadata": {},
   "source": [
    "In a not-so-surprising way, the cost of insurance seems highly correlated with age. People aged 25 years old and under pay on average 9,011, people 35 and under 10,352, people 45 and under 13,134, people 55 and under 15,854, people 65 and under 18,513.\n",
    "<br> The average BMI also increases, but only a little; same for the share of women; the share of smokers is at its maximum for people under 45 years old, but then goes down. Therefore age seems to be a major factor when it comes to the cost of insurance."
   ]
  },
  {
   "cell_type": "markdown",
   "metadata": {},
   "source": [
    "### A study of the geography variable\n",
    "\n",
    "Let's find the repartition of persons across regions:"
   ]
  },
  {
   "cell_type": "code",
   "execution_count": 31,
   "metadata": {},
   "outputs": [
    {
     "name": "stdout",
     "output_type": "stream",
     "text": [
      "{'northeast': 324, 'northwest': 325, 'southeast': 364, 'southwest': 325}\n"
     ]
    }
   ],
   "source": [
    "region_repartition_pc = dictionary_repartition_abs(regions_data)\n",
    "print(region_repartition_pc)"
   ]
  },
  {
   "cell_type": "markdown",
   "metadata": {},
   "source": [
    "We find that the population is quite well distributed across regions, with a slight uptick in the Southeast region."
   ]
  },
  {
   "cell_type": "code",
   "execution_count": 32,
   "metadata": {
    "scrolled": true
   },
   "outputs": [
    {
     "name": "stdout",
     "output_type": "stream",
     "text": [
      "0\n",
      "{'Number of people': 324, 'Age': '39.3', 'Share of women': '49.69%', 'BMI': '29.2', 'Children': '1.05', 'Share of smokers': '20.68%', 'Region': 0, 'Charges': '13,406.38'}\n",
      "1\n",
      "{'Number of people': 325, 'Age': '39.2', 'Share of women': '50.46%', 'BMI': '29.2', 'Children': '1.15', 'Share of smokers': '17.85%', 'Region': 1, 'Charges': '12,417.58'}\n",
      "2\n",
      "{'Number of people': 364, 'Age': '38.9', 'Share of women': '48.08%', 'BMI': '33.4', 'Children': '1.05', 'Share of smokers': '25.00%', 'Region': 2, 'Charges': '14,735.41'}\n",
      "3\n",
      "{'Number of people': 325, 'Age': '39.5', 'Share of women': '49.85%', 'BMI': '30.6', 'Children': '1.14', 'Share of smokers': '17.85%', 'Region': 3, 'Charges': '12,346.94'}\n",
      "{'0': {'Number of people': 324, 'Age': '39.3', 'Share of women': '49.69%', 'BMI': '29.2', 'Children': '1.05', 'Share of smokers': '20.68%', 'Region': 0, 'Charges': '13,406.38'}, '1': {'Number of people': 325, 'Age': '39.2', 'Share of women': '50.46%', 'BMI': '29.2', 'Children': '1.15', 'Share of smokers': '17.85%', 'Region': 1, 'Charges': '12,417.58'}, '2': {'Number of people': 364, 'Age': '38.9', 'Share of women': '48.08%', 'BMI': '33.4', 'Children': '1.05', 'Share of smokers': '25.00%', 'Region': 2, 'Charges': '14,735.41'}, '3': {'Number of people': 325, 'Age': '39.5', 'Share of women': '49.85%', 'BMI': '30.6', 'Children': '1.14', 'Share of smokers': '17.85%', 'Region': 3, 'Charges': '12,346.94'}}\n"
     ]
    }
   ],
   "source": [
    "#### Test the functions:\n",
    "#mean_per_region_nb1 = mean_key_profile(regions_dictionary_nb)\n",
    "mean_per_region_nb2 = mean_key_profile_fun(regions_dictionary_nb)\n",
    "print(mean_per_region_nb2)"
   ]
  },
  {
   "cell_type": "markdown",
   "metadata": {},
   "source": [
    "##### Results"
   ]
  },
  {
   "cell_type": "markdown",
   "metadata": {},
   "source": [
    "We observe that the Southeast region has, at $14,735.41, the highest charges on average, compared to the other regions."
   ]
  },
  {
   "cell_type": "markdown",
   "metadata": {},
   "source": [
    "The main outlier is the share of smoker: at 25%, it is far superior to the 17.85% share of total population in the Southwest and Northwest regions, and even to the 20.68% share in the Northeast region."
   ]
  },
  {
   "cell_type": "markdown",
   "metadata": {},
   "source": [
    "### Linear regression"
   ]
  },
  {
   "cell_type": "markdown",
   "metadata": {},
   "source": [
    "A quick study of different couples of variables: bmi and charges, age and charges, children and charges, smoking status and charges.\n",
    "###### So let's define a function that will help compare all the couples we like."
   ]
  },
  {
   "cell_type": "code",
   "execution_count": 33,
   "metadata": {},
   "outputs": [],
   "source": [
    "#### Linear regression function:\n",
    "def get_y(m, b, x):\n",
    "    y = m * x + b\n",
    "    return y\n",
    "\n",
    "#### Calculating error to one point function:\n",
    "def calculate_error(m, b, point):\n",
    "    x_point, y_point = point\n",
    "    diff = get_y(m, b, x_point) - y_point\n",
    "    dist = abs(diff)\n",
    "    return dist\n",
    "\n",
    "# Calculate the total error function:\n",
    "def calculate_all_error(m, b, points):\n",
    "    total = 0\n",
    "    for point in points:\n",
    "        total += calculate_error(m, b, point)\n",
    "    return total\n",
    "\n",
    "#### linear regression function:\n",
    "def linear_reg(dictionary, choice_1, choice_2, inf_ms, sup_ms, inf_bs, sup_bs):\n",
    "    #### \n",
    "    datapoints = [(float(dictionary[key][choice_1]), float(dictionary[key][choice_2])) for key in dictionary]\n",
    "    #### list of the possible values for the points of the linear regression equation:\n",
    "    possible_ms = [m * 10 for m in range(inf_ms, sup_ms)]\n",
    "    possible_bs = [b * 10 for b in range(inf_bs, sup_bs)]\n",
    "    #### initialization of the variables for the following loop:\n",
    "    smallest_error = float(\"inf\")\n",
    "    best_m = 0\n",
    "    best_b = 0\n",
    "    #### loop that computes the closest approximation for the linear regression:\n",
    "    for m in possible_ms:\n",
    "        for b in possible_bs:\n",
    "            test = calculate_all_error(m, b, datapoints)\n",
    "            if test < smallest_error:\n",
    "                best_m = m\n",
    "                best_b = b\n",
    "                smallest_error = test\n",
    "    smallest_error = '{:,.9}'.format(smallest_error)\n",
    "    #### print the results:\n",
    "    print(best_m, best_b, smallest_error)"
   ]
  },
  {
   "cell_type": "code",
   "execution_count": 34,
   "metadata": {},
   "outputs": [
    {
     "name": "stdout",
     "output_type": "stream",
     "text": [
      "130 5420 11,133,909.5\n"
     ]
    }
   ],
   "source": [
    "#### Test of the linear regression function:\n",
    "lin_reg_bmi_charges = linear_reg(insurance_data, 'BMI', 'Charges', 10, 50, 400, 600)"
   ]
  },
  {
   "cell_type": "code",
   "execution_count": 35,
   "metadata": {},
   "outputs": [
    {
     "name": "stdout",
     "output_type": "stream",
     "text": [
      "270 -3230 8,975,710.34\n"
     ]
    }
   ],
   "source": [
    "lin_reg_age_charges = linear_reg(insurance_data, 'Age', 'Charges', 10, 30, -400, -200)"
   ]
  },
  {
   "cell_type": "code",
   "execution_count": 36,
   "metadata": {
    "scrolled": true
   },
   "outputs": [
    {
     "name": "stdout",
     "output_type": "stream",
     "text": [
      "140 9150 11,171,118.0\n"
     ]
    }
   ],
   "source": [
    "lin_reg_children_charges = linear_reg(insurance_data, 'Children', 'Charges', 0, 50, 800, 1000)"
   ]
  },
  {
   "cell_type": "code",
   "execution_count": 37,
   "metadata": {},
   "outputs": [
    {
     "name": "stdout",
     "output_type": "stream",
     "text": [
      "490 9380 11,039,431.0\n"
     ]
    }
   ],
   "source": [
    "lin_reg_age_charges = linear_reg(insurance_data_nb, 'Smoker', 'Charges', 0, 50, 800, 1000)"
   ]
  }
 ],
 "metadata": {
  "kernelspec": {
   "display_name": "Python 3",
   "language": "python",
   "name": "python3"
  },
  "language_info": {
   "codemirror_mode": {
    "name": "ipython",
    "version": 3
   },
   "file_extension": ".py",
   "mimetype": "text/x-python",
   "name": "python",
   "nbconvert_exporter": "python",
   "pygments_lexer": "ipython3",
   "version": "3.8.5"
  }
 },
 "nbformat": 4,
 "nbformat_minor": 4
}
